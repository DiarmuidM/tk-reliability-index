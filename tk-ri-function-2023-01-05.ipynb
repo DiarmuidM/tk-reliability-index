{
 "cells": [
  {
   "cell_type": "markdown",
   "id": "c39a660d",
   "metadata": {},
   "source": [
    "## Preliminaries"
   ]
  },
  {
   "cell_type": "markdown",
   "id": "0d1e8f65",
   "metadata": {},
   "source": [
    "Import necessary functions"
   ]
  },
  {
   "cell_type": "code",
   "execution_count": null,
   "id": "efe752c9",
   "metadata": {},
   "outputs": [],
   "source": [
    "from datetime import datetime as dt\n",
    "import math\n",
    "import pandas as pd"
   ]
  },
  {
   "cell_type": "markdown",
   "id": "e459dcc4",
   "metadata": {},
   "source": [
    "## Define weights"
   ]
  },
  {
   "cell_type": "markdown",
   "id": "c4bb2cf1",
   "metadata": {},
   "source": [
    "Create a dictionary object containing the weights for each factor. The default weight is 10 but can range between 0 and 100.\n",
    "\n",
    "Primary factors should have a higher weight."
   ]
  },
  {
   "cell_type": "code",
   "execution_count": null,
   "id": "9ca070c9",
   "metadata": {},
   "outputs": [],
   "source": [
    "fweights = {'r_made': 20, 'r_acc': 20, 'r_com': 20, 'acc_r': 20, 'com_r': 20, 's_url': 10, 's_mail': 10, 's_tel': 10}"
   ]
  },
  {
   "cell_type": "code",
   "execution_count": null,
   "id": "b4cf8520",
   "metadata": {},
   "outputs": [],
   "source": [
    "w = fweights"
   ]
  },
  {
   "cell_type": "markdown",
   "id": "80132de7",
   "metadata": {},
   "source": [
    "## Import data"
   ]
  },
  {
   "cell_type": "markdown",
   "id": "e35691ae",
   "metadata": {},
   "source": [
    "Import the service data as a `pandas` dataframe."
   ]
  },
  {
   "cell_type": "code",
   "execution_count": null,
   "id": "cc3fcb13",
   "metadata": {},
   "outputs": [],
   "source": [
    "df = pd.read_csv(\"https://raw.githubusercontent.com/DiarmuidM/tk-reliability-index/main/data/dummydatav001-ar-19dec22.csv\")\n",
    "df"
   ]
  },
  {
   "cell_type": "code",
   "execution_count": null,
   "id": "e13d6447",
   "metadata": {},
   "outputs": [],
   "source": [
    "# Create derived factors\n",
    "    \n",
    "df['acc_r'] = df['raccepted'] / df['rmade']\n",
    "df['com_r'] = df['rcompleted'] / df['raccepted']"
   ]
  },
  {
   "cell_type": "markdown",
   "id": "0bb09e64",
   "metadata": {},
   "source": [
    "## Create population summaries function"
   ]
  },
  {
   "cell_type": "markdown",
   "id": "6d31aeb0",
   "metadata": {},
   "source": [
    "Create a function that calculates statistical summaries of relavant service factors i.e., median number of referrals for all service providers."
   ]
  },
  {
   "cell_type": "code",
   "execution_count": null,
   "id": "a05a5150",
   "metadata": {},
   "outputs": [],
   "source": [
    "def statsum(df):\n",
    "    \n",
    "    sdata = df\n",
    "    \n",
    "    r_made_p50 = sdata['rmade'].median()\n",
    "    r_acc_p50 = sdata['raccepted'].median()\n",
    "    r_com_p50 = sdata['rcompleted'].median()\n",
    "    acc_r_p50 = sdata['acc_r'].median()\n",
    "    com_r_p50 = sdata['com_r'].median()\n",
    "    \n",
    "    summaries = {'r_made_p50': r_made_p50, 'r_acc_p50': r_acc_p50, 'r_com_p50': r_com_p50, 'acc_r_p50': acc_r_p50, 'com_r_p50': com_r_p50}\n",
    "    return summaries"
   ]
  },
  {
   "cell_type": "code",
   "execution_count": null,
   "id": "800a1922",
   "metadata": {},
   "outputs": [],
   "source": [
    "summaries = statsum(df)\n",
    "summaries"
   ]
  },
  {
   "cell_type": "code",
   "execution_count": null,
   "id": "1c534ff6",
   "metadata": {},
   "outputs": [],
   "source": [
    "pop_sum = summaries"
   ]
  },
  {
   "cell_type": "code",
   "execution_count": null,
   "id": "40d7c1f9",
   "metadata": {},
   "outputs": [],
   "source": [
    "pop_sum['r_made_p50']"
   ]
  },
  {
   "cell_type": "markdown",
   "id": "e8057b4c",
   "metadata": {},
   "source": [
    "## Create metric normalisation function"
   ]
  },
  {
   "cell_type": "markdown",
   "id": "b9b112af",
   "metadata": {},
   "source": [
    "Consider whether this is better off performed in the ri_score() function."
   ]
  },
  {
   "cell_type": "code",
   "execution_count": null,
   "id": "2ca90c75",
   "metadata": {},
   "outputs": [],
   "source": [
    "def met_t(factor, factor_p50):\n",
    "    \n",
    "    fac_t = 1 / (1 + math.exp(-0.01*(factor - factor_p50)))\n",
    "    \n",
    "    return fac_t"
   ]
  },
  {
   "cell_type": "code",
   "execution_count": null,
   "id": "300c5f48",
   "metadata": {},
   "outputs": [],
   "source": [
    "# Transform metric variables to normalised versions\n",
    "\n",
    "df['r_made'] = \"\"\n",
    "df['r_acc'] = \"\"\n",
    "df['r_com'] = \"\"\n",
    "\n",
    "for i in df.index:\n",
    "    df['r_made'][i] = met_t(df['rmade'][i], pop_sum['r_made_p50'])\n",
    "    df['r_acc'][i] = met_t(df['raccepted'][i], pop_sum['r_acc_p50'])\n",
    "    df['r_com'][i] = met_t(df['rcompleted'][i], pop_sum['r_com_p50'])"
   ]
  },
  {
   "cell_type": "code",
   "execution_count": null,
   "id": "1341127e",
   "metadata": {},
   "outputs": [],
   "source": [
    "df[['r_made', 'r_acc', 'r_com']]"
   ]
  },
  {
   "cell_type": "markdown",
   "id": "a5a6c0c5",
   "metadata": {},
   "source": [
    "## Handle missing values of primary factors"
   ]
  },
  {
   "cell_type": "markdown",
   "id": "9b7cf2b8",
   "metadata": {},
   "source": [
    "Replace with median value for all services. However also need an indicator of missingness, otherwise a new service will look better than a lower scoring, longer-running service."
   ]
  },
  {
   "cell_type": "code",
   "execution_count": null,
   "id": "66775762",
   "metadata": {},
   "outputs": [],
   "source": [
    "## Handle missing values\n",
    "\n",
    "df.loc[df['r_made'].isna(), 'r_made_miss'] = 1\n",
    "df.loc[df['r_acc'].isna(), 'r_acc_miss'] = 1\n",
    "df.loc[df['r_com'].isna(), 'r_com_miss'] = 1\n",
    "df.loc[df['acc_r'].isna(), 'acc_r_miss'] = 1\n",
    "df.loc[df['com_r'].isna(), 'com_r_miss'] = 1\n",
    "\n",
    "df.loc[df['r_made'].isna(), 'r_made'] = pop_sum['r_made_p50']\n",
    "df.loc[df['r_acc'].isna(), 'r_acc'] = pop_sum['r_acc_p50']\n",
    "df.loc[df['r_com'].isna(), 'r_com'] = pop_sum['r_com_p50']\n",
    "df.loc[df['acc_r'].isna(), 'acc_r'] = pop_sum['acc_r_p50']\n",
    "df.loc[df['com_r'].isna(), 'com_r'] = pop_sum['com_r_p50']"
   ]
  },
  {
   "cell_type": "code",
   "execution_count": null,
   "id": "180112a5",
   "metadata": {},
   "outputs": [],
   "source": [
    "## Calculate reliability index\n",
    "    \n",
    "df['ri_score'] = \"\" # initialise as empty column\n",
    "\n",
    "# If service is inactive, ri_score = 0\n",
    "\n",
    "df.loc[df['ServiceStatus']=='inactive', 'ri_score'] = 0\n",
    "\n",
    "\n",
    "    \n",
    "df['ri_score'] = 1000 * (((df['r_made'] * w['r_made']) + (df['r_acc'] * w['r_acc']) + (df['r_com'] * w['r_com']) \n",
    "                         + (df['acc_r'] * w['acc_r']) + (df['com_r'] * w['com_r']) + (df['ServiceEmail'] * w['s_mail'])\n",
    "                         + (df['ServiceWeb'] * w['s_url']) + (df['ServiceTelephone'] * w['s_tel']))\n",
    "                         / sum(w.values())) "
   ]
  },
  {
   "cell_type": "code",
   "execution_count": null,
   "id": "be1165ff",
   "metadata": {},
   "outputs": [],
   "source": [
    "df['ri_score']"
   ]
  },
  {
   "cell_type": "code",
   "execution_count": null,
   "id": "cb7a66e1",
   "metadata": {},
   "outputs": [],
   "source": [
    "df.to_csv(\"./data/testdata.csv\")"
   ]
  },
  {
   "cell_type": "markdown",
   "id": "cfeea052",
   "metadata": {},
   "source": [
    "## Create RI function"
   ]
  },
  {
   "cell_type": "markdown",
   "id": "a9a8146b",
   "metadata": {},
   "source": [
    "Define a function that calculates a Reliability Index score for service providers.\n",
    "\n",
    "TASK: how should I loop over service providers: within the function or outside?"
   ]
  },
  {
   "cell_type": "code",
   "execution_count": null,
   "id": "5e0fa4ed",
   "metadata": {},
   "outputs": [],
   "source": [
    "def ri_score(df, summaries, fweights):\n",
    "    df = df\n",
    "    pop_sum = summaries\n",
    "    w = fweights\n",
    "    \n",
    "    # Transform metric variables to normalised versions\n",
    "    \n",
    "    df['r_made'] = met_t(df['rmade'], pop_sum['r_made_p50'])\n",
    "    \n",
    "    ## Calculate reliability index\n",
    "    \n",
    "    df['ri_score'] = \"\" # initialise as empty column\n",
    "    \n",
    "    df['ri_score'] = (df['r_made'] * w['r_made']) + \n",
    "    \n",
    "    s_res = {'service_id': s_id, 'service_name': s_name, 'reliability_index': ri_score}\n",
    "    \n",
    "    return s_res"
   ]
  },
  {
   "cell_type": "code",
   "execution_count": null,
   "id": "1637b822",
   "metadata": {},
   "outputs": [],
   "source": [
    "ri_results = ri_score(fweights)\n",
    "ri_results"
   ]
  },
  {
   "cell_type": "code",
   "execution_count": null,
   "id": "b1c4f5d4",
   "metadata": {},
   "outputs": [],
   "source": []
  }
 ],
 "metadata": {
  "kernelspec": {
   "display_name": "Python 3 (ipykernel)",
   "language": "python",
   "name": "python3"
  },
  "language_info": {
   "codemirror_mode": {
    "name": "ipython",
    "version": 3
   },
   "file_extension": ".py",
   "mimetype": "text/x-python",
   "name": "python",
   "nbconvert_exporter": "python",
   "pygments_lexer": "ipython3",
   "version": "3.10.5"
  }
 },
 "nbformat": 4,
 "nbformat_minor": 5
}
