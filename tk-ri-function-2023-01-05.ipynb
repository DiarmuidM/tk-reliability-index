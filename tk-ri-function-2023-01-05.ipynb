{
 "cells": [
  {
   "cell_type": "markdown",
   "id": "c39a660d",
   "metadata": {},
   "source": [
    "## Preliminaries"
   ]
  },
  {
   "cell_type": "markdown",
   "id": "0d1e8f65",
   "metadata": {},
   "source": [
    "Import necessary functions"
   ]
  },
  {
   "cell_type": "code",
   "execution_count": 69,
   "id": "efe752c9",
   "metadata": {},
   "outputs": [],
   "source": [
    "from datetime import datetime as dt\n",
    "import math\n",
    "import pandas as pd"
   ]
  },
  {
   "cell_type": "markdown",
   "id": "e459dcc4",
   "metadata": {},
   "source": [
    "## Define weights"
   ]
  },
  {
   "cell_type": "markdown",
   "id": "c4bb2cf1",
   "metadata": {},
   "source": [
    "Create a dictionary object containing the weights for each factor. The default weight is 10 but can range between 0 and 100.\n",
    "\n",
    "Primary factors should have a higher weight."
   ]
  },
  {
   "cell_type": "code",
   "execution_count": 70,
   "id": "9ca070c9",
   "metadata": {},
   "outputs": [],
   "source": [
    "fweights = {'r_made': 20, 'r_acc': 20, 'r_com': 20, 'acc_r': 20, 'com_r': 20, 's_url': 10, 's_mail': 10, 's_tel': 10}"
   ]
  },
  {
   "cell_type": "code",
   "execution_count": 71,
   "id": "b4cf8520",
   "metadata": {},
   "outputs": [],
   "source": [
    "w = fweights"
   ]
  },
  {
   "cell_type": "markdown",
   "id": "80132de7",
   "metadata": {},
   "source": [
    "## Import data"
   ]
  },
  {
   "cell_type": "markdown",
   "id": "e35691ae",
   "metadata": {},
   "source": [
    "Import the service data as a `pandas` dataframe."
   ]
  },
  {
   "cell_type": "code",
   "execution_count": 72,
   "id": "cc3fcb13",
   "metadata": {},
   "outputs": [
    {
     "data": {
      "text/html": [
       "<div>\n",
       "<style scoped>\n",
       "    .dataframe tbody tr th:only-of-type {\n",
       "        vertical-align: middle;\n",
       "    }\n",
       "\n",
       "    .dataframe tbody tr th {\n",
       "        vertical-align: top;\n",
       "    }\n",
       "\n",
       "    .dataframe thead th {\n",
       "        text-align: right;\n",
       "    }\n",
       "</style>\n",
       "<table border=\"1\" class=\"dataframe\">\n",
       "  <thead>\n",
       "    <tr style=\"text-align: right;\">\n",
       "      <th></th>\n",
       "      <th>SID</th>\n",
       "      <th>ServiceStatus</th>\n",
       "      <th>ServiceName</th>\n",
       "      <th>ServiceAddress</th>\n",
       "      <th>ServiceEmail</th>\n",
       "      <th>ServiceWeb</th>\n",
       "      <th>ServiceTelephone</th>\n",
       "      <th>DateLastUpdated</th>\n",
       "      <th>rmade</th>\n",
       "      <th>raccepted</th>\n",
       "      <th>rcompleted</th>\n",
       "    </tr>\n",
       "  </thead>\n",
       "  <tbody>\n",
       "    <tr>\n",
       "      <th>0</th>\n",
       "      <td>1</td>\n",
       "      <td>active</td>\n",
       "      <td>a</td>\n",
       "      <td>0</td>\n",
       "      <td>0</td>\n",
       "      <td>0</td>\n",
       "      <td>0</td>\n",
       "      <td>10/06/2022</td>\n",
       "      <td>279</td>\n",
       "      <td>201</td>\n",
       "      <td>174</td>\n",
       "    </tr>\n",
       "    <tr>\n",
       "      <th>1</th>\n",
       "      <td>2</td>\n",
       "      <td>active</td>\n",
       "      <td>b</td>\n",
       "      <td>1</td>\n",
       "      <td>1</td>\n",
       "      <td>1</td>\n",
       "      <td>0</td>\n",
       "      <td>17/08/2021</td>\n",
       "      <td>369</td>\n",
       "      <td>347</td>\n",
       "      <td>254</td>\n",
       "    </tr>\n",
       "    <tr>\n",
       "      <th>2</th>\n",
       "      <td>3</td>\n",
       "      <td>active</td>\n",
       "      <td>c</td>\n",
       "      <td>1</td>\n",
       "      <td>0</td>\n",
       "      <td>0</td>\n",
       "      <td>0</td>\n",
       "      <td>04/02/2021</td>\n",
       "      <td>209</td>\n",
       "      <td>164</td>\n",
       "      <td>101</td>\n",
       "    </tr>\n",
       "    <tr>\n",
       "      <th>3</th>\n",
       "      <td>4</td>\n",
       "      <td>active</td>\n",
       "      <td>d</td>\n",
       "      <td>1</td>\n",
       "      <td>1</td>\n",
       "      <td>1</td>\n",
       "      <td>1</td>\n",
       "      <td>26/09/2021</td>\n",
       "      <td>295</td>\n",
       "      <td>211</td>\n",
       "      <td>146</td>\n",
       "    </tr>\n",
       "    <tr>\n",
       "      <th>4</th>\n",
       "      <td>5</td>\n",
       "      <td>active</td>\n",
       "      <td>a</td>\n",
       "      <td>1</td>\n",
       "      <td>0</td>\n",
       "      <td>0</td>\n",
       "      <td>0</td>\n",
       "      <td>23/05/2021</td>\n",
       "      <td>443</td>\n",
       "      <td>362</td>\n",
       "      <td>267</td>\n",
       "    </tr>\n",
       "    <tr>\n",
       "      <th>...</th>\n",
       "      <td>...</td>\n",
       "      <td>...</td>\n",
       "      <td>...</td>\n",
       "      <td>...</td>\n",
       "      <td>...</td>\n",
       "      <td>...</td>\n",
       "      <td>...</td>\n",
       "      <td>...</td>\n",
       "      <td>...</td>\n",
       "      <td>...</td>\n",
       "      <td>...</td>\n",
       "    </tr>\n",
       "    <tr>\n",
       "      <th>245</th>\n",
       "      <td>246</td>\n",
       "      <td>inactive</td>\n",
       "      <td>d</td>\n",
       "      <td>0</td>\n",
       "      <td>1</td>\n",
       "      <td>1</td>\n",
       "      <td>1</td>\n",
       "      <td>08/06/2021</td>\n",
       "      <td>283</td>\n",
       "      <td>218</td>\n",
       "      <td>145</td>\n",
       "    </tr>\n",
       "    <tr>\n",
       "      <th>246</th>\n",
       "      <td>247</td>\n",
       "      <td>inactive</td>\n",
       "      <td>a</td>\n",
       "      <td>0</td>\n",
       "      <td>0</td>\n",
       "      <td>1</td>\n",
       "      <td>1</td>\n",
       "      <td>19/05/2021</td>\n",
       "      <td>471</td>\n",
       "      <td>464</td>\n",
       "      <td>434</td>\n",
       "    </tr>\n",
       "    <tr>\n",
       "      <th>247</th>\n",
       "      <td>248</td>\n",
       "      <td>inactive</td>\n",
       "      <td>a</td>\n",
       "      <td>1</td>\n",
       "      <td>0</td>\n",
       "      <td>0</td>\n",
       "      <td>1</td>\n",
       "      <td>21/11/2021</td>\n",
       "      <td>92</td>\n",
       "      <td>47</td>\n",
       "      <td>30</td>\n",
       "    </tr>\n",
       "    <tr>\n",
       "      <th>248</th>\n",
       "      <td>249</td>\n",
       "      <td>inactive</td>\n",
       "      <td>b</td>\n",
       "      <td>0</td>\n",
       "      <td>0</td>\n",
       "      <td>0</td>\n",
       "      <td>0</td>\n",
       "      <td>28/03/2021</td>\n",
       "      <td>195</td>\n",
       "      <td>110</td>\n",
       "      <td>67</td>\n",
       "    </tr>\n",
       "    <tr>\n",
       "      <th>249</th>\n",
       "      <td>250</td>\n",
       "      <td>inactive</td>\n",
       "      <td>c</td>\n",
       "      <td>0</td>\n",
       "      <td>0</td>\n",
       "      <td>0</td>\n",
       "      <td>0</td>\n",
       "      <td>27/07/2021</td>\n",
       "      <td>147</td>\n",
       "      <td>137</td>\n",
       "      <td>66</td>\n",
       "    </tr>\n",
       "  </tbody>\n",
       "</table>\n",
       "<p>250 rows × 11 columns</p>\n",
       "</div>"
      ],
      "text/plain": [
       "     SID ServiceStatus ServiceName  ServiceAddress  ServiceEmail  ServiceWeb  \\\n",
       "0      1        active           a               0             0           0   \n",
       "1      2        active           b               1             1           1   \n",
       "2      3        active           c               1             0           0   \n",
       "3      4        active           d               1             1           1   \n",
       "4      5        active           a               1             0           0   \n",
       "..   ...           ...         ...             ...           ...         ...   \n",
       "245  246      inactive           d               0             1           1   \n",
       "246  247      inactive           a               0             0           1   \n",
       "247  248      inactive           a               1             0           0   \n",
       "248  249      inactive           b               0             0           0   \n",
       "249  250      inactive           c               0             0           0   \n",
       "\n",
       "     ServiceTelephone DateLastUpdated  rmade  raccepted  rcompleted  \n",
       "0                   0      10/06/2022    279        201         174  \n",
       "1                   0      17/08/2021    369        347         254  \n",
       "2                   0      04/02/2021    209        164         101  \n",
       "3                   1      26/09/2021    295        211         146  \n",
       "4                   0      23/05/2021    443        362         267  \n",
       "..                ...             ...    ...        ...         ...  \n",
       "245                 1      08/06/2021    283        218         145  \n",
       "246                 1      19/05/2021    471        464         434  \n",
       "247                 1      21/11/2021     92         47          30  \n",
       "248                 0      28/03/2021    195        110          67  \n",
       "249                 0      27/07/2021    147        137          66  \n",
       "\n",
       "[250 rows x 11 columns]"
      ]
     },
     "execution_count": 72,
     "metadata": {},
     "output_type": "execute_result"
    }
   ],
   "source": [
    "df = pd.read_csv(\"./data/dummydatav001-ar-19dec22.csv\")\n",
    "df"
   ]
  },
  {
   "cell_type": "code",
   "execution_count": 73,
   "id": "e13d6447",
   "metadata": {},
   "outputs": [],
   "source": [
    "# Create derived factors\n",
    "    \n",
    "df['acc_r'] = df['raccepted'] / df['rmade']\n",
    "df['com_r'] = df['rcompleted'] / df['raccepted']"
   ]
  },
  {
   "cell_type": "markdown",
   "id": "0bb09e64",
   "metadata": {},
   "source": [
    "## Create population summaries function"
   ]
  },
  {
   "cell_type": "markdown",
   "id": "6d31aeb0",
   "metadata": {},
   "source": [
    "Create a function that calculates statistical summaries of relavant service factors i.e., median number of referrals for all service providers."
   ]
  },
  {
   "cell_type": "code",
   "execution_count": 74,
   "id": "a05a5150",
   "metadata": {},
   "outputs": [],
   "source": [
    "def statsum(df):\n",
    "    \n",
    "    sdata = df\n",
    "    \n",
    "    r_made_p50 = sdata['rmade'].median()\n",
    "    r_acc_p50 = sdata['raccepted'].median()\n",
    "    r_com_p50 = sdata['rcompleted'].median()\n",
    "    acc_r_p50 = sdata['acc_r'].median()\n",
    "    com_r_p50 = sdata['com_r'].median()\n",
    "    \n",
    "    summaries = {'r_made_p50': r_made_p50, 'r_acc_p50': r_acc_p50, 'r_com_p50': r_com_p50, 'acc_r_p50': acc_r_p50, 'com_r_p50': com_r_p50}\n",
    "    return summaries"
   ]
  },
  {
   "cell_type": "code",
   "execution_count": 75,
   "id": "800a1922",
   "metadata": {},
   "outputs": [
    {
     "data": {
      "text/plain": [
       "{'r_made_p50': 254.0,\n",
       " 'r_acc_p50': 202.5,\n",
       " 'r_com_p50': 162.0,\n",
       " 'acc_r_p50': 0.8056638142845038,\n",
       " 'com_r_p50': 0.7897727272727273}"
      ]
     },
     "execution_count": 75,
     "metadata": {},
     "output_type": "execute_result"
    }
   ],
   "source": [
    "summaries = statsum(df)\n",
    "summaries"
   ]
  },
  {
   "cell_type": "code",
   "execution_count": 76,
   "id": "1c534ff6",
   "metadata": {},
   "outputs": [],
   "source": [
    "pop_sum = summaries"
   ]
  },
  {
   "cell_type": "code",
   "execution_count": 77,
   "id": "40d7c1f9",
   "metadata": {},
   "outputs": [
    {
     "data": {
      "text/plain": [
       "254.0"
      ]
     },
     "execution_count": 77,
     "metadata": {},
     "output_type": "execute_result"
    }
   ],
   "source": [
    "pop_sum['r_made_p50']"
   ]
  },
  {
   "cell_type": "markdown",
   "id": "e8057b4c",
   "metadata": {},
   "source": [
    "## Create metric normalisation function"
   ]
  },
  {
   "cell_type": "markdown",
   "id": "b9b112af",
   "metadata": {},
   "source": [
    "Consider whether this is better off performed in the ri_score() function."
   ]
  },
  {
   "cell_type": "code",
   "execution_count": 78,
   "id": "2ca90c75",
   "metadata": {},
   "outputs": [],
   "source": [
    "def met_t(factor, factor_p50):\n",
    "    \n",
    "    fac_t = 1 / (1 + math.exp(-0.01*(factor - factor_p50)))\n",
    "    \n",
    "    return fac_t"
   ]
  },
  {
   "cell_type": "code",
   "execution_count": 79,
   "id": "300c5f48",
   "metadata": {},
   "outputs": [
    {
     "name": "stderr",
     "output_type": "stream",
     "text": [
      "c:\\temp\\ipykernel_35200\\1674509719.py:8: SettingWithCopyWarning: \n",
      "A value is trying to be set on a copy of a slice from a DataFrame\n",
      "\n",
      "See the caveats in the documentation: https://pandas.pydata.org/pandas-docs/stable/user_guide/indexing.html#returning-a-view-versus-a-copy\n",
      "  df['r_made'][i] = met_t(df['rmade'][i], pop_sum['r_made_p50'])\n",
      "c:\\temp\\ipykernel_35200\\1674509719.py:9: SettingWithCopyWarning: \n",
      "A value is trying to be set on a copy of a slice from a DataFrame\n",
      "\n",
      "See the caveats in the documentation: https://pandas.pydata.org/pandas-docs/stable/user_guide/indexing.html#returning-a-view-versus-a-copy\n",
      "  df['r_acc'][i] = met_t(df['raccepted'][i], pop_sum['r_acc_p50'])\n",
      "c:\\temp\\ipykernel_35200\\1674509719.py:10: SettingWithCopyWarning: \n",
      "A value is trying to be set on a copy of a slice from a DataFrame\n",
      "\n",
      "See the caveats in the documentation: https://pandas.pydata.org/pandas-docs/stable/user_guide/indexing.html#returning-a-view-versus-a-copy\n",
      "  df['r_com'][i] = met_t(df['rcompleted'][i], pop_sum['r_com_p50'])\n"
     ]
    }
   ],
   "source": [
    "# Transform metric variables to normalised versions\n",
    "\n",
    "df['r_made'] = \"\"\n",
    "df['r_acc'] = \"\"\n",
    "df['r_com'] = \"\"\n",
    "\n",
    "for i in df.index:\n",
    "    df['r_made'][i] = met_t(df['rmade'][i], pop_sum['r_made_p50'])\n",
    "    df['r_acc'][i] = met_t(df['raccepted'][i], pop_sum['r_acc_p50'])\n",
    "    df['r_com'][i] = met_t(df['rcompleted'][i], pop_sum['r_com_p50'])"
   ]
  },
  {
   "cell_type": "code",
   "execution_count": 80,
   "id": "1341127e",
   "metadata": {},
   "outputs": [
    {
     "data": {
      "text/html": [
       "<div>\n",
       "<style scoped>\n",
       "    .dataframe tbody tr th:only-of-type {\n",
       "        vertical-align: middle;\n",
       "    }\n",
       "\n",
       "    .dataframe tbody tr th {\n",
       "        vertical-align: top;\n",
       "    }\n",
       "\n",
       "    .dataframe thead th {\n",
       "        text-align: right;\n",
       "    }\n",
       "</style>\n",
       "<table border=\"1\" class=\"dataframe\">\n",
       "  <thead>\n",
       "    <tr style=\"text-align: right;\">\n",
       "      <th></th>\n",
       "      <th>r_made</th>\n",
       "      <th>r_acc</th>\n",
       "      <th>r_com</th>\n",
       "    </tr>\n",
       "  </thead>\n",
       "  <tbody>\n",
       "    <tr>\n",
       "      <th>0</th>\n",
       "      <td>0.562177</td>\n",
       "      <td>0.49625</td>\n",
       "      <td>0.529964</td>\n",
       "    </tr>\n",
       "    <tr>\n",
       "      <th>1</th>\n",
       "      <td>0.759511</td>\n",
       "      <td>0.809228</td>\n",
       "      <td>0.715042</td>\n",
       "    </tr>\n",
       "    <tr>\n",
       "      <th>2</th>\n",
       "      <td>0.389361</td>\n",
       "      <td>0.404922</td>\n",
       "      <td>0.352059</td>\n",
       "    </tr>\n",
       "    <tr>\n",
       "      <th>3</th>\n",
       "      <td>0.601088</td>\n",
       "      <td>0.521237</td>\n",
       "      <td>0.460085</td>\n",
       "    </tr>\n",
       "    <tr>\n",
       "      <th>4</th>\n",
       "      <td>0.868756</td>\n",
       "      <td>0.831318</td>\n",
       "      <td>0.740775</td>\n",
       "    </tr>\n",
       "    <tr>\n",
       "      <th>...</th>\n",
       "      <td>...</td>\n",
       "      <td>...</td>\n",
       "      <td>...</td>\n",
       "    </tr>\n",
       "    <tr>\n",
       "      <th>245</th>\n",
       "      <td>0.571996</td>\n",
       "      <td>0.538673</td>\n",
       "      <td>0.457602</td>\n",
       "    </tr>\n",
       "    <tr>\n",
       "      <th>246</th>\n",
       "      <td>0.897523</td>\n",
       "      <td>0.931821</td>\n",
       "      <td>0.938197</td>\n",
       "    </tr>\n",
       "    <tr>\n",
       "      <th>247</th>\n",
       "      <td>0.165205</td>\n",
       "      <td>0.174365</td>\n",
       "      <td>0.210818</td>\n",
       "    </tr>\n",
       "    <tr>\n",
       "      <th>248</th>\n",
       "      <td>0.356635</td>\n",
       "      <td>0.28394</td>\n",
       "      <td>0.278885</td>\n",
       "    </tr>\n",
       "    <tr>\n",
       "      <th>249</th>\n",
       "      <td>0.255403</td>\n",
       "      <td>0.341864</td>\n",
       "      <td>0.276878</td>\n",
       "    </tr>\n",
       "  </tbody>\n",
       "</table>\n",
       "<p>250 rows × 3 columns</p>\n",
       "</div>"
      ],
      "text/plain": [
       "       r_made     r_acc     r_com\n",
       "0    0.562177   0.49625  0.529964\n",
       "1    0.759511  0.809228  0.715042\n",
       "2    0.389361  0.404922  0.352059\n",
       "3    0.601088  0.521237  0.460085\n",
       "4    0.868756  0.831318  0.740775\n",
       "..        ...       ...       ...\n",
       "245  0.571996  0.538673  0.457602\n",
       "246  0.897523  0.931821  0.938197\n",
       "247  0.165205  0.174365  0.210818\n",
       "248  0.356635   0.28394  0.278885\n",
       "249  0.255403  0.341864  0.276878\n",
       "\n",
       "[250 rows x 3 columns]"
      ]
     },
     "execution_count": 80,
     "metadata": {},
     "output_type": "execute_result"
    }
   ],
   "source": [
    "df[['r_made', 'r_acc', 'r_com']]"
   ]
  },
  {
   "cell_type": "markdown",
   "id": "a5a6c0c5",
   "metadata": {},
   "source": [
    "## Handle missing values of primary factors"
   ]
  },
  {
   "cell_type": "markdown",
   "id": "9b7cf2b8",
   "metadata": {},
   "source": [
    "Replace with median value for all services. However also need an indicator of missingness, otherwise a new service will look better than a lower scoring, longer-running service."
   ]
  },
  {
   "cell_type": "code",
   "execution_count": 81,
   "id": "66775762",
   "metadata": {},
   "outputs": [],
   "source": [
    "## Handle missing values\n",
    "\n",
    "df.loc[df['r_made'].isna(), 'r_made_miss'] = 1\n",
    "df.loc[df['r_acc'].isna(), 'r_acc_miss'] = 1\n",
    "df.loc[df['r_com'].isna(), 'r_com_miss'] = 1\n",
    "df.loc[df['acc_r'].isna(), 'acc_r_miss'] = 1\n",
    "df.loc[df['com_r'].isna(), 'com_r_miss'] = 1\n",
    "\n",
    "df.loc[df['r_made'].isna(), 'r_made'] = pop_sum['r_made_p50']\n",
    "df.loc[df['r_acc'].isna(), 'r_acc'] = pop_sum['r_acc_p50']\n",
    "df.loc[df['r_com'].isna(), 'r_com'] = pop_sum['r_com_p50']\n",
    "df.loc[df['acc_r'].isna(), 'acc_r'] = pop_sum['acc_r_p50']\n",
    "df.loc[df['com_r'].isna(), 'com_r'] = pop_sum['com_r_p50']"
   ]
  },
  {
   "cell_type": "code",
   "execution_count": 66,
   "id": "180112a5",
   "metadata": {},
   "outputs": [],
   "source": [
    "## Calculate reliability index\n",
    "    \n",
    "df['ri_score'] = \"\" # initialise as empty column\n",
    "\n",
    "# If service is inactive, ri_score = 0\n",
    "\n",
    "df.loc[df['ServiceStatus']=='inactive', 'ri_score'] = 0\n",
    "\n",
    "\n",
    "    \n",
    "df['ri_score'] = 1000 * (((df['r_made'] * w['r_made']) + (df['r_acc'] * w['r_acc']) + (df['r_com'] * w['r_com']) \n",
    "                         + (df['acc_r'] * w['acc_r']) + (df['com_r'] * w['com_r']) + (df['ServiceEmail'] * w['s_mail'])\n",
    "                         + (df['ServiceWeb'] * w['s_url']) + (df['ServiceTelephone'] * w['s_tel']))\n",
    "                         / sum(w.values())) "
   ]
  },
  {
   "cell_type": "code",
   "execution_count": 67,
   "id": "be1165ff",
   "metadata": {},
   "outputs": [
    {
     "data": {
      "text/plain": [
       "0      488.383442\n",
       "1      762.484405\n",
       "2       391.82833\n",
       "3      690.708858\n",
       "4      614.703639\n",
       "          ...    \n",
       "245     692.88099\n",
       "246    875.080472\n",
       "247    338.393213\n",
       "248     321.94667\n",
       "249    351.979935\n",
       "Name: ri_score, Length: 250, dtype: object"
      ]
     },
     "execution_count": 67,
     "metadata": {},
     "output_type": "execute_result"
    }
   ],
   "source": [
    "df['ri_score']"
   ]
  },
  {
   "cell_type": "code",
   "execution_count": 68,
   "id": "cb7a66e1",
   "metadata": {},
   "outputs": [],
   "source": [
    "df.to_csv(\"./data/testdata.csv\")"
   ]
  },
  {
   "cell_type": "markdown",
   "id": "cfeea052",
   "metadata": {},
   "source": [
    "## Create RI function"
   ]
  },
  {
   "cell_type": "markdown",
   "id": "a9a8146b",
   "metadata": {},
   "source": [
    "Define a function that calculates a Reliability Index score for service providers.\n",
    "\n",
    "TASK: how should I loop over service providers: within the function or outside?"
   ]
  },
  {
   "cell_type": "code",
   "execution_count": null,
   "id": "5e0fa4ed",
   "metadata": {},
   "outputs": [],
   "source": [
    "def ri_score(df, summaries, fweights):\n",
    "    df = df\n",
    "    pop_sum = summaries\n",
    "    w = fweights\n",
    "    \n",
    "    # Transform metric variables to normalised versions\n",
    "    \n",
    "    df['r_made'] = met_t(df['rmade'], pop_sum['r_made_p50'])\n",
    "    \n",
    "    ## Calculate reliability index\n",
    "    \n",
    "    df['ri_score'] = \"\" # initialise as empty column\n",
    "    \n",
    "    df['ri_score'] = (df['r_made'] * w['r_made']) + \n",
    "    \n",
    "    s_res = {'service_id': s_id, 'service_name': s_name, 'reliability_index': ri_score}\n",
    "    \n",
    "    return s_res"
   ]
  },
  {
   "cell_type": "code",
   "execution_count": null,
   "id": "1637b822",
   "metadata": {},
   "outputs": [],
   "source": [
    "ri_results = ri_score(fweights)\n",
    "ri_results"
   ]
  },
  {
   "cell_type": "code",
   "execution_count": null,
   "id": "b1c4f5d4",
   "metadata": {},
   "outputs": [],
   "source": []
  }
 ],
 "metadata": {
  "kernelspec": {
   "display_name": "Python 3 (ipykernel)",
   "language": "python",
   "name": "python3"
  },
  "language_info": {
   "codemirror_mode": {
    "name": "ipython",
    "version": 3
   },
   "file_extension": ".py",
   "mimetype": "text/x-python",
   "name": "python",
   "nbconvert_exporter": "python",
   "pygments_lexer": "ipython3",
   "version": "3.10.5"
  }
 },
 "nbformat": 4,
 "nbformat_minor": 5
}
